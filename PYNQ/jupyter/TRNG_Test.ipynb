{
 "cells": [
  {
   "cell_type": "markdown",
   "metadata": {},
   "source": [
    "## Hardware-oriented implementation of the \"count the ones\" test\n",
    "2023-08-10 Naoki F., AIT\n",
    "\n",
    "ライセンス条件は LICENSE.txt を参照してください\n",
    "（See LICENSE.txt for license information)"
   ]
  },
  {
   "cell_type": "markdown",
   "metadata": {},
   "source": [
    "真性乱数生成器（TRNG）に対するドライバクラスを定義します．\n",
    "\n",
    "A driver class for a true random number generator (TRNG) is defined."
   ]
  },
  {
   "cell_type": "code",
   "execution_count": null,
   "metadata": {},
   "outputs": [],
   "source": [
    "from pynq import DefaultIP\n",
    "\n",
    "class TRNGCore(DefaultIP):\n",
    "    ADDR_GO         = 0x00\n",
    "    ADDR_STOP       = 0x00\n",
    "    ADDR_RUN        = 0x00\n",
    "    ADDR_OVER       = 0x00\n",
    "    MASK_RUN        = 0x1\n",
    "    MASK_OVER       = 0x2\n",
    "    ADDR_SEND_BYTES = 0x04\n",
    "    ADDR_SENT_BYTES = 0x04\n",
    "    ADDR_DMA_BYTES  = 0x08\n",
    "    ADDR_SUM_DATA   = 0x08\n",
    "    ADDR_PARAMETER  = 0x0c\n",
    "    ADDR_STATS      = 0x0c\n",
    "    ADDR_STAT_ADDR  = 0x10\n",
    "    send_bytes = 0\n",
    "    \n",
    "    def __init__(self, description):\n",
    "        super().__init__(description=description)\n",
    "        self.stop()\n",
    "        \n",
    "    bindto = ['xilinx.com:user:TC_TERO_IP:1.0']\n",
    "    \n",
    "    def start (self, total, dma_size = 4096):\n",
    "        self.write(self.ADDR_SEND_BYTES, total)\n",
    "        self.write(self.ADDR_DMA_BYTES, dma_size)\n",
    "        self.write(self.ADDR_GO, 1)\n",
    "        self.send_bytes = total\n",
    "    \n",
    "    def wait (self):\n",
    "        if self.send_bytes != 0:\n",
    "            while True:\n",
    "                if (self.read(self.ADDR_RUN) & self.MASK_RUN) == 0:\n",
    "                    break\n",
    "        if (self.read(self.ADDR_OVER) & self.MASK_OVER) != 0:\n",
    "            raise OSError(\"TRNG Buffer Overflow\")\n",
    "        \n",
    "    def stop (self):\n",
    "        self.write(self.ADDR_STOP, 0)\n",
    "    \n",
    "    parameter = property()\n",
    "    @parameter.setter\n",
    "    def parameter(self, value):\n",
    "        self.write(self.ADDR_PARAMETER, value)\n",
    "    \n",
    "    @property\n",
    "    def sent_bytes(self):\n",
    "        return self.read(self.ADDR_SENT_BYTES)\n",
    "    \n",
    "    @property\n",
    "    def sum_data(self):\n",
    "        return self.read(self.ADDR_SUM_DATA)\n",
    "    \n",
    "    def get_user_stats(self, addr):\n",
    "        self.write(self.ADDR_STAT_ADDR, addr)\n",
    "        return self.read(self.ADDR_STATS)\n"
   ]
  },
  {
   "cell_type": "markdown",
   "metadata": {},
   "source": [
    "定数を宣言します．TC_TERO_PARAM は 0～1048575 の範囲で任意に選べます．\n",
    "\n",
    "Constants are defined. You may select an arbitrary integer from 0 to 1048575 as TC-TERO_PARAM."
   ]
  },
  {
   "cell_type": "code",
   "execution_count": null,
   "metadata": {},
   "outputs": [],
   "source": [
    "NUM_BLOCKS = 41\n",
    "NUM_WORDS = 1561\n",
    "TOTAL_BITS = NUM_BLOCKS * NUM_WORDS * 32 # 41 x 1561 x 32 = 2,048,032 bit\n",
    "TC_TERO_PARAM = 1"
   ]
  },
  {
   "cell_type": "markdown",
   "metadata": {},
   "source": [
    "オーバーレイを読み出し，バッファなどの準備を行います．\n",
    "\n",
    "The hardware overlay is opened and buffers are allocated."
   ]
  },
  {
   "cell_type": "code",
   "execution_count": null,
   "metadata": {},
   "outputs": [],
   "source": [
    "from pynq import Overlay\n",
    "from pynq import allocate\n",
    "import numpy as np\n",
    "\n",
    "pl = Overlay(\"TRNG_IP_MOD.bit\")\n",
    "rng = pl.TC_TERO_IP_0\n",
    "tst = pl.countone_0\n",
    "dma = pl.axi_dma_0\n",
    "\n",
    "buffer_r = allocate(shape=(NUM_WORDS,), dtype=np.uint32)\n",
    "buffer_w = allocate(shape=(NUM_WORDS,), dtype=np.uint32)\n",
    "\n",
    "rng.parameter = TC_TERO_PARAM"
   ]
  },
  {
   "cell_type": "markdown",
   "metadata": {},
   "source": [
    "乱数を生成し，その結果を random.dat に保存しながら，乱数検定を行います．\n",
    "\n",
    "We now generate random numbers and save them as random.dat, while performing randomness test."
   ]
  },
  {
   "cell_type": "code",
   "execution_count": null,
   "metadata": {},
   "outputs": [],
   "source": [
    "file = open(\"random.dat\", \"wb\")\n",
    "tst.register_map.CTRL.AP_START = 1\n",
    "rng.start(NUM_BLOCKS * NUM_WORDS * 4, NUM_WORDS * 4)\n",
    "\n",
    "for i in range(NUM_BLOCKS):\n",
    "    dma.recvchannel.transfer(buffer_r)\n",
    "    if i != 0:\n",
    "        buffer_w.tofile(file)\n",
    "    dma.recvchannel.wait()\n",
    "    buffer_r, buffer_w = buffer_w, buffer_r\n",
    "    \n",
    "rng.stop()\n",
    "buffer_w.tofile(file)\n",
    "file.close()\n",
    "buffer_r.freebuffer()\n",
    "buffer_w.freebuffer()"
   ]
  },
  {
   "cell_type": "markdown",
   "metadata": {},
   "source": [
    "TERO 型真性乱数生成器では，発振の回数の偶奇を 0, 1 のランダムビットとして出力します．\n",
    "（発振の回数が 255 以上の場合は 255 として扱います）\n",
    "回路内で発振の回数の分布を統計情報として記録しているので，それを取り出し，プロットしてみます．\n",
    "\n",
    "In TERO-based TRNG, a random output bit is defined as the number of oscillations modulo two.\n",
    "(If the number of oscillations is greater than 255, it is recorded as 255.)\n",
    "As the distribution of the number of oscillation is recorded by the TRNG circuit as statistics, we extract and plot it."
   ]
  },
  {
   "cell_type": "code",
   "execution_count": null,
   "metadata": {},
   "outputs": [],
   "source": [
    "%matplotlib inline\n",
    "from matplotlib import pyplot as plt\n",
    "\n",
    "stats = [0]\n",
    "for i in range(1, 256):\n",
    "    stats.append(rng.get_user_stats(i) / TOTAL_BITS)\n",
    "plt.bar(list(range(256)), stats, width=1)\n",
    "plt.show()"
   ]
  },
  {
   "cell_type": "markdown",
   "metadata": {},
   "source": [
    "併せて，count the ones テストを実行した結果を取り出し，乱数検定の合否を判定します．\n",
    "検定回路から出力された統計量は，もし真性乱数生成器から偏りのない乱数が生成されていれば，平均2500，標準偏差√5000の正規分布に近似的に従います．\n",
    "これをもとに統計量からP値を求めます．\n",
    "\n",
    "Also, we determine pass or fail of the count-the-ones test.\n",
    "The statistic from the test circuit will, if the TRNG is free from bias, follow a normal distribution with a mean of 2500 and standard deviation of sqrt(5000).\n",
    "We calculate the p-value from the statistic."
   ]
  },
  {
   "cell_type": "code",
   "execution_count": null,
   "metadata": {},
   "outputs": [],
   "source": [
    "from scipy.stats import norm\n",
    "\n",
    "stat = int(tst.register_map.ap_return) / 65536\n",
    "print(f\"統計量 (statistic): {stat}\")\n",
    "\n",
    "p = norm.pdf((2500 - stat) / np.sqrt(5000))\n",
    "print(f\"P値 (p-value): {p}\")"
   ]
  },
  {
   "cell_type": "code",
   "execution_count": null,
   "metadata": {},
   "outputs": [],
   "source": []
  }
 ],
 "metadata": {
  "kernelspec": {
   "display_name": "Python 3",
   "language": "python",
   "name": "python3"
  },
  "language_info": {
   "codemirror_mode": {
    "name": "ipython",
    "version": 3
   },
   "file_extension": ".py",
   "mimetype": "text/x-python",
   "name": "python",
   "nbconvert_exporter": "python",
   "pygments_lexer": "ipython3",
   "version": "3.6.5"
  }
 },
 "nbformat": 4,
 "nbformat_minor": 2
}
